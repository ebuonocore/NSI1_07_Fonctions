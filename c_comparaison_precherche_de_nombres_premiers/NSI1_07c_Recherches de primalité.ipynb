{
 "cells": [
  {
   "cell_type": "markdown",
   "id": "compound-bundle",
   "metadata": {},
   "source": [
    "<div style=\"width:100%;border-collapse:separate;border:solid 2px;border-radius:14px;\">\n",
    "    <div style=\"display:flex;\">\n",
    "        <div style=\"display:inline;width:5%;\"></div>\n",
    "        <div style=\"display:inline;width:15%;\">NSI1</div>\n",
    "        <div style=\"display:inline;width:15%;\">07c</div>\n",
    "        <div style=\"display:inline;width:70%;text-align:right;\"><b>Langages et programmation</b></div>\n",
    "        <div style=\"display:inline;width:5%;\"></div>\n",
    "    </div>\n",
    "    <div  style=\"display: flex;background-color:#EEE\">\n",
    "        <p style=\"width:100%;text-align:center;\">Utilisation de bibliothèques. Fonctions et Spécifications</p>\n",
    "    </div>\n",
    "    <div  style=\"display: flex;\">\n",
    "        <p style=\"width:100%;text-align:center;\">Comparaison d'algorithmes de recherche de primalité</p>\n",
    "    </div>\n",
    "</div>"
   ]
  },
  {
   "cell_type": "markdown",
   "id": "german-taylor",
   "metadata": {},
   "source": [
    "<p><span style=\"font-size: 10pt;\">Ce notebook n'a pas vocation a &ecirc;tre &eacute;tudi&eacute; int&eacute;gralement par les &eacute;l&egrave;ves de <strong>premi&egrave;re</strong>: Certaines parties sortent du programme de cette ann&eacute;e.</span></p>\n",
    "<p><span style=\"font-size: 10pt;\">Par contre, les approches des premiers algorithmes et la comparaison graphique des performances m&eacute;ritent une attention particuli&egrave;re pour &ecirc;tre comment&eacute;.</span></p>"
   ]
  },
  {
   "cell_type": "code",
   "execution_count": 1,
   "id": "curious-strike",
   "metadata": {},
   "outputs": [],
   "source": [
    "from matplotlib import pyplot as plt\n",
    "import math\n",
    "import sys\n",
    "import timeit"
   ]
  },
  {
   "cell_type": "code",
   "execution_count": 2,
   "id": "nearby-welsh",
   "metadata": {},
   "outputs": [],
   "source": [
    "def est_premier_v1(x):\n",
    "    # 0 et 1 ne sont pas des nombres premiers\n",
    "    \"\"\" x est un entier positif\n",
    "        Renvoie True si x est un nombre premier\n",
    "        Sinon, renvoie False\n",
    "        Vérifie la divisibilité de x avec tous les entiers compris entre 2 et x-1\n",
    "    \"\"\"\n",
    "    if x >1: # Evacue le test de primalité pour 0 et 1\n",
    "        résultat = True\n",
    "    else:\n",
    "        résultat = False\n",
    "    # Test systématiquement la divisisbilité de x par tous les entiers compris entre 2 et x-1\n",
    "    for i in range(2, x):\n",
    "        if x%i == 0:\n",
    "            return False\n",
    "    return résultat # résultat est un booléen. Il vaut True ou False.\n",
    "    \n",
    "def est_premier_v2(x):\n",
    "    \"\"\" x est un entier positif supérieur à 1\n",
    "        Renvoie True si x est un nombre premier\n",
    "        Sinon, renvoie False\n",
    "        Vérifie la divisibilité de x avec les entiers compris entre 2 et x-1\n",
    "        S'arrête s'il en trouve un\n",
    "    \"\"\"\n",
    "    # 0 et 1 ne sont pas des nombres premiers\n",
    "    if x >1: # Evacue le test de primalité pour 0 et 1\n",
    "        résultat = True\n",
    "    else:\n",
    "        résultat = False\n",
    "    # Test la divisibilité avec les entiers compris entre 2 et x-1\n",
    "    # Le test s'arrêt dès que l'on a trouvé un diviseur\n",
    "    i = 2\n",
    "    while résultat == True and i<x:\n",
    "        if x%i == 0:\n",
    "            résultat = False\n",
    "        i += 1\n",
    "    return résultat\n",
    "\n",
    "def est_premier_v3(x):\n",
    "    \"\"\" x est un entier positif supérieur à 1\n",
    "        Renvoie True si x est un nombre premier\n",
    "        Sinon, renvoie False\n",
    "        Vérifie la divisibilité de x avec 2 puis les entiers impairs compris entre 3 et x-1\n",
    "        S'arrête s'il en trouve un\n",
    "    \"\"\"\n",
    "    # 0 et 1 ne sont pas des nombres premiers\n",
    "    if x >1: # Evacue le test de primalité pour 0 et 1\n",
    "        résultat = True\n",
    "    else:\n",
    "        résultat = False\n",
    "    # 2 est un nombre premier\n",
    "    if x%2 == 0 and x!= 2: # Evacue le test de primalité pour les multiples de 2 (sauf 2)\n",
    "        résultat = False\n",
    "    i = 3\n",
    "    # Test la divisibilité de x par tous les entiers précedents non pairs\n",
    "    while résultat == True and i<x:\n",
    "        if x%i == 0:\n",
    "            résultat = False\n",
    "        i += 2\n",
    "    return résultat\n",
    "\n",
    "def est_premier_v4(x):\n",
    "    \"\"\" x est un entier positif\n",
    "        Renvoie True si x est un nombre premier\n",
    "        Sinon, renvoie False\n",
    "        Vérifie la divisibilité de x avec 2 puis les entiers impairs compris entre 3 et sqrt(x)\n",
    "        S'arrête s'il en trouve un\n",
    "    \"\"\"\n",
    "    résultat = True\n",
    "    if x <= 1: # Evacue le test de primalité pour 0 et 1\n",
    "        résultat = False # 0 et 1 ne sont pas des nombres premiers\n",
    "    if x%2 == 0 and x!= 2: # 2 est un nombre premier\n",
    "        résultat = False\n",
    "    i = 3\n",
    "    # Test la divisibilité de x par tous les entiers précedents non pairs\n",
    "    # jusqu'à la racine carré de x\n",
    "    while résultat == True and i<=math.sqrt(x):\n",
    "        if x%i == 0:\n",
    "            résultat = False\n",
    "        i += 2\n",
    "    return résultat"
   ]
  },
  {
   "cell_type": "code",
   "execution_count": 3,
   "id": "supposed-bangkok",
   "metadata": {},
   "outputs": [],
   "source": [
    "def premiers_Eratosthene(x:int)->list:\n",
    "    \"\"\" Soit x un entier positif >=2\n",
    "        Renvoie la liste des nombres premiers inférieurs ou égaux à x\n",
    "    \"\"\"\n",
    "    if x <= 1:\n",
    "        return []\n",
    "    premiers = [2] # Liste des nombres premiers à renvoyer\n",
    "    cibles = [i for i in range(2,x+1) if (i%2==1 or i==2)] # Liste des potentiels nombres premiers \n",
    "    for nombre in cibles:\n",
    "        if nombre != None:\n",
    "            test_prima = True # Hypothèse de départ: Cenombre est premier\n",
    "            p = 0\n",
    "            # Test la divisibilité par chacun des premiers précédent\n",
    "            while p < len(premiers) and test_prima:\n",
    "                if nombre%premiers[p] == 0: # Finalement ce nombre n'est pas premier                \n",
    "                    test_prima = False\n",
    "                p += 1\n",
    "            if test_prima:# nombre est bien premier\n",
    "                premiers.append(nombre)\n",
    "                coef = 1\n",
    "                while nombre*coef <= x:\n",
    "                    if nombre*coef in cibles: # Remplace par None tous les multiples de nombre\n",
    "                        indice = cibles.index(nombre*coef)\n",
    "                        cibles[indice] = None\n",
    "                    coef += 1\n",
    "    return premiers"
   ]
  },
  {
   "cell_type": "code",
   "execution_count": null,
   "id": "individual-circular",
   "metadata": {},
   "outputs": [],
   "source": [
    "\"\"\" ZONE ROUGE: Hors du programme de première\n",
    "\"\"\""
   ]
  },
  {
   "cell_type": "markdown",
   "id": "emotional-november",
   "metadata": {},
   "source": [
    "![Bandeau_alerte](https://raw.githubusercontent.com/ebuonocore/banque_images/main/signalisation/bandeau_alerte_800px_01.png?raw=true)"
   ]
  },
  {
   "cell_type": "code",
   "execution_count": 4,
   "id": "informed-refrigerator",
   "metadata": {},
   "outputs": [],
   "source": [
    "sys.setrecursionlimit(100000)\n",
    "\n",
    "def premiers_rec(x):\n",
    "    \"\"\" Soit x un entier positif >=2\n",
    "        Renvoie la liste des nombres premiers inférieurs ou égaux à x\n",
    "        Fonction récursive\n",
    "    \"\"\"\n",
    "    if x <= 1:\n",
    "        return []\n",
    "    if x == 2:\n",
    "        return [2]\n",
    "    test_prima = True # Hypothèse de départ: Cenombre est premier\n",
    "    premiers_avant = premiers_rec(x-1)\n",
    "    i = 0\n",
    "    while i< len(premiers_avant) and test_prima:\n",
    "        if x % premiers_avant[i] == 0:\n",
    "            # Ce n'est donc pas un nombre premier. N'est pas ajouté à la liste\n",
    "            return premiers_avant\n",
    "        i += 1\n",
    "    # x est donc bien un nombre premier\n",
    "    premiers_avant.append(x)\n",
    "    return premiers_avant"
   ]
  },
  {
   "cell_type": "code",
   "execution_count": 5,
   "id": "rapid-amsterdam",
   "metadata": {},
   "outputs": [
    {
     "name": "stdout",
     "output_type": "stream",
     "text": [
      "[2, 3, 5, 7, 11, 13, 17, 19, 23, 29, 31, 37, 41, 43, 47, 53, 59, 61, 67, 71, 73, 79, 83, 89, 97]\n",
      "[2, 3, 5, 7, 11, 13, 17, 19, 23, 29, 31, 37, 41, 43, 47, 53, 59, 61, 67, 71, 73, 79, 83, 89, 97]\n",
      "[2, 3, 5, 7, 11, 13, 17, 19, 23, 29, 31, 37, 41, 43, 47, 53, 59, 61, 67, 71, 73, 79, 83, 89, 97]\n",
      "[2, 3, 5, 7, 11, 13, 17, 19, 23, 29, 31, 37, 41, 43, 47, 53, 59, 61, 67, 71, 73, 79, 83, 89, 97]\n",
      "[2, 3, 5, 7, 11, 13, 17, 19, 23, 29, 31, 37, 41, 43, 47, 53, 59, 61, 67, 71, 73, 79, 83, 89, 97]\n",
      "[2, 3, 5, 7, 11, 13, 17, 19, 23, 29, 31, 37, 41, 43, 47, 53, 59, 61, 67, 71, 73, 79, 83, 89, 97]\n"
     ]
    }
   ],
   "source": [
    "liste_premiers_v1 = lambda x:[i for i in range(x) if est_premier_v1(i)]\n",
    "liste_premiers_v2 = lambda x:[i for i in range(x) if est_premier_v2(i)]\n",
    "liste_premiers_v3 = lambda x:[i for i in range(x) if est_premier_v3(i)]\n",
    "liste_premiers_v4 = lambda x:[i for i in range(x) if est_premier_v4(i)]\n",
    "liste_premiers = [liste_premiers_v1, liste_premiers_v2, liste_premiers_v3, liste_premiers_v4, premiers_Eratosthene, premiers_rec]\n",
    "\n",
    "for v in range(len(liste_premiers)):\n",
    "    print(liste_premiers[v](100))"
   ]
  },
  {
   "cell_type": "code",
   "execution_count": 10,
   "id": "intellectual-malpractice",
   "metadata": {},
   "outputs": [
    {
     "name": "stdout",
     "output_type": "stream",
     "text": [
      "v0 \t: 3.377\n",
      "v1 \t: 2.345\n",
      "v2 \t: 1.02\n",
      "v3 \t: 0.392\n",
      "v4 \t: 2.348\n",
      "v5 \t: 0.934\n"
     ]
    }
   ],
   "source": [
    "def comparer_versions(versions, maximum):\n",
    "    temps = {}\n",
    "    redondance = 4\n",
    "    for v in range(len(versions)):\n",
    "        t = timeit.timeit(lambda:versions[v](maximum),number=redondance)\n",
    "        temps['v'+str(v)] = round(t*1000,3)\n",
    "    return temps\n",
    "\n",
    "temps = comparer_versions(liste_premiers, 200)\n",
    "for version, durée in temps.items():\n",
    "    print(f\"{version} \\t: {durée}\", end =\"\\n\")"
   ]
  },
  {
   "cell_type": "code",
   "execution_count": 15,
   "id": "medical-polish",
   "metadata": {},
   "outputs": [],
   "source": [
    "memo = [[] for i in range(len(liste_premiers))]\n",
    "x = []\n",
    "for i in range(20):\n",
    "    maximum = int(300 + i**4)\n",
    "    x.append(maximum)\n",
    "    temps = comparer_versions(liste_premiers, maximum)\n",
    "    v = 0\n",
    "    for durée in temps.values():\n",
    "        memo[v].append(durée)\n",
    "        v += 1      \n",
    "    "
   ]
  },
  {
   "cell_type": "markdown",
   "id": "understanding-photography",
   "metadata": {},
   "source": [
    "![Bandeau_alerte](https://raw.githubusercontent.com/ebuonocore/banque_images/main/signalisation/bandeau_alerte_800px_01.png?raw=true)"
   ]
  },
  {
   "cell_type": "code",
   "execution_count": 25,
   "id": "reduced-terrorist",
   "metadata": {},
   "outputs": [
    {
     "data": {
      "text/plain": [
       "\" FIN DE LA ZONE ROUGE\\n    Pour comprendre le code suivant, il suffit de comprendre que la boucle 'for' permet de tracer les courbes des\\n\""
      ]
     },
     "execution_count": 25,
     "metadata": {},
     "output_type": "execute_result"
    }
   ],
   "source": [
    "\"\"\" FIN DE LA ZONE ROUGE\n",
    "    Pour comprendre le code suivant, il suffit de comprendre que la boucle 'for' permet de tracer les courbes\n",
    "    pour chaque algorithme des temps de recherche en fonciton su plus grand nombre premier recherché.\n",
    "\"\"\""
   ]
  },
  {
   "cell_type": "code",
   "execution_count": 24,
   "id": "awful-running",
   "metadata": {},
   "outputs": [
    {
     "data": {
      "image/png": "[encoded data removed]",
      "text/plain": [
       "<Figure size 432x288 with 1 Axes>"
      ]
     },
     "metadata": {
      "needs_background": "light"
     },
     "output_type": "display_data"
    }
   ],
   "source": [
    "\"\"\" Tracés de du temps de recherche des entiers premiers en fonction \n",
    "    de la valeur de la borne supérieure de l'espace de recherche\n",
    "    v1: Vérifie la divisibilité de x avec tous les entiers compris entre 2 et x-1\n",
    "    v2: Vérifie la divisibilité de x avec les entiers compris entre 2 et x-1. S'arrête s'il en trouve un.\n",
    "    v3: Vérifie la divisibilité de x avec 2 puis les entiers impairs compris entre 3 et x-1. S'arrête s'il en trouve un.\n",
    "    v4: Vérifie la divisibilité de x avec 2 puis les entiers impairs compris entre 3 et sqrt(x)\n",
    "        S'arrête s'il en trouve un.\n",
    "    v5: Algorithme d'Eratosthène\n",
    "    v6: Approche récursive    \n",
    "\"\"\"\n",
    "\n",
    "\n",
    "for v in range(len(liste_premiers)):\n",
    "    plt.plot(x, memo[v], label=\"v\"+str(v+1)) # Trace le graphe correspondant\n",
    "\n",
    "plt.xlabel(\"Borne supérieure de la recherche\")\n",
    "plt.ylabel(\"Temps de recherche\")\n",
    "plt.legend()\n",
    "plt.show() # Affiche la figure à l'ecran"
   ]
  },
  {
   "cell_type": "markdown",
   "id": "latin-telling",
   "metadata": {},
   "source": [
    "---\n",
    "<p style=\"font-family:Comic Sans MS; text-align: center; color:gray; font-size: x-small; \">- Eric Buonocore. septembre 2021 -<br></p>\n",
    "\n",
    "![Licence CC BY NC SA](https://licensebuttons.net/l/by-nc-sa/3.0/88x31.png)"
   ]
  }
 ],
 "metadata": {
  "kernelspec": {
   "display_name": "Python 3",
   "language": "python",
   "name": "python3"
  },
  "language_info": {
   "codemirror_mode": {
    "name": "ipython",
    "version": 3
   },
   "file_extension": ".py",
   "mimetype": "text/x-python",
   "name": "python",
   "nbconvert_exporter": "python",
   "pygments_lexer": "ipython3",
   "version": "3.6.9"
  }
 },
 "nbformat": 4,
 "nbformat_minor": 5
}
